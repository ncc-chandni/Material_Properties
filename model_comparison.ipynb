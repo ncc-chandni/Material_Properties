{
 "cells": [
  {
   "cell_type": "code",
   "execution_count": 1,
   "metadata": {},
   "outputs": [],
   "source": [
    "import pandas as pd \n",
    "import numpy as np \n",
    "import matplotlib.pyplot as plt\n",
    "from sklearn.model_selection import train_test_split, KFold, GridSearchCV\n",
    "from sklearn.preprocessing import StandardScaler, Normalizer\n",
    "from sklearn.svm import SVR\n",
    "from sklearn.metrics import r2_score, mean_squared_error \n",
    "import composition\n",
    "import utils"
   ]
  },
  {
   "cell_type": "code",
   "execution_count": 2,
   "metadata": {},
   "outputs": [],
   "source": [
    "from sklearn.metrics import mean_absolute_error\n",
    "from sklearn.linear_model import LinearRegression,Ridge,Lasso\n",
    "from sklearn.neighbors import KNeighborsRegressor\n",
    "from sklearn.tree import DecisionTreeRegressor\n",
    "from sklearn.ensemble import RandomForestRegressor,GradientBoostingRegressor\n",
    "from sklearn.svm import SVR"
   ]
  },
  {
   "cell_type": "code",
   "execution_count": 3,
   "metadata": {},
   "outputs": [
    {
     "data": {
      "text/html": [
       "<div>\n",
       "<style scoped>\n",
       "    .dataframe tbody tr th:only-of-type {\n",
       "        vertical-align: middle;\n",
       "    }\n",
       "\n",
       "    .dataframe tbody tr th {\n",
       "        vertical-align: top;\n",
       "    }\n",
       "\n",
       "    .dataframe thead th {\n",
       "        text-align: right;\n",
       "    }\n",
       "</style>\n",
       "<table border=\"1\" class=\"dataframe\">\n",
       "  <thead>\n",
       "    <tr style=\"text-align: right;\">\n",
       "      <th></th>\n",
       "      <th>ENTRY</th>\n",
       "      <th>AEL VRH bulk modulus</th>\n",
       "      <th>AEL elastic anisotropy</th>\n",
       "      <th>AEL Poisson ratio</th>\n",
       "      <th>AEL VRH shear modulus</th>\n",
       "      <th>space group</th>\n",
       "      <th>Pearson symbol</th>\n",
       "      <th>DATA</th>\n",
       "    </tr>\n",
       "  </thead>\n",
       "  <tbody>\n",
       "    <tr>\n",
       "      <th>0</th>\n",
       "      <td>Ag10S8Sb2 [d3aa24a7307877b5]</td>\n",
       "      <td>35.2376</td>\n",
       "      <td>0.440193</td>\n",
       "      <td>0.350433</td>\n",
       "      <td>11.7082</td>\n",
       "      <td>36 - Cmc21</td>\n",
       "      <td>oS40</td>\n",
       "      <td>[API, Out, JSON ]</td>\n",
       "    </tr>\n",
       "    <tr>\n",
       "      <th>1</th>\n",
       "      <td>Ag1Al1S2 [e81fdf58728bbeef]</td>\n",
       "      <td>71.6539</td>\n",
       "      <td>1.125370</td>\n",
       "      <td>0.302537</td>\n",
       "      <td>32.5879</td>\n",
       "      <td>156 - P3m1</td>\n",
       "      <td>hP4</td>\n",
       "      <td>[API, Out, JSON ]</td>\n",
       "    </tr>\n",
       "    <tr>\n",
       "      <th>2</th>\n",
       "      <td>Ag1C2K1 [30b4ea4c8457fd17]</td>\n",
       "      <td>27.2627</td>\n",
       "      <td>21.340800</td>\n",
       "      <td>0.289897</td>\n",
       "      <td>13.3219</td>\n",
       "      <td>123 - P4/mmm</td>\n",
       "      <td>tP4</td>\n",
       "      <td>[API, Out, JSON ]</td>\n",
       "    </tr>\n",
       "    <tr>\n",
       "      <th>3</th>\n",
       "      <td>Ag1C2Li1 [4038910d534b860e]</td>\n",
       "      <td>36.3669</td>\n",
       "      <td>21.700800</td>\n",
       "      <td>0.297220</td>\n",
       "      <td>17.0545</td>\n",
       "      <td>187 - P6m2</td>\n",
       "      <td>hP4</td>\n",
       "      <td>[API, Out, JSON ]</td>\n",
       "    </tr>\n",
       "    <tr>\n",
       "      <th>4</th>\n",
       "      <td>Ag1In5Se8 [59aa7f06d2a88d1a]</td>\n",
       "      <td>24.7673</td>\n",
       "      <td>1.487440</td>\n",
       "      <td>0.274498</td>\n",
       "      <td>13.1466</td>\n",
       "      <td>111 - P42m</td>\n",
       "      <td>tP14</td>\n",
       "      <td>[API, Out, JSON ]</td>\n",
       "    </tr>\n",
       "  </tbody>\n",
       "</table>\n",
       "</div>"
      ],
      "text/plain": [
       "                         ENTRY   AEL VRH bulk modulus   \\\n",
       "0  Ag10S8Sb2 [d3aa24a7307877b5]                35.2376   \n",
       "1   Ag1Al1S2 [e81fdf58728bbeef]                71.6539   \n",
       "2    Ag1C2K1 [30b4ea4c8457fd17]                27.2627   \n",
       "3   Ag1C2Li1 [4038910d534b860e]                36.3669   \n",
       "4  Ag1In5Se8 [59aa7f06d2a88d1a]                24.7673   \n",
       "\n",
       "   AEL elastic anisotropy   AEL Poisson ratio   AEL VRH shear modulus   \\\n",
       "0                 0.440193            0.350433                 11.7082   \n",
       "1                 1.125370            0.302537                 32.5879   \n",
       "2                21.340800            0.289897                 13.3219   \n",
       "3                21.700800            0.297220                 17.0545   \n",
       "4                 1.487440            0.274498                 13.1466   \n",
       "\n",
       "   space group  Pearson symbol                DATA  \n",
       "0    36 - Cmc21            oS40  [API, Out, JSON ]  \n",
       "1    156 - P3m1             hP4  [API, Out, JSON ]  \n",
       "2  123 - P4/mmm             tP4  [API, Out, JSON ]  \n",
       "3    187 - P6m2             hP4  [API, Out, JSON ]  \n",
       "4    111 - P42m            tP14  [API, Out, JSON ]  "
      ]
     },
     "execution_count": 3,
     "metadata": {},
     "output_type": "execute_result"
    }
   ],
   "source": [
    "df = pd.read_csv(\"/Users/umakantmanore/Desktop/amu/Dev_Enviroment2023/test_env/Material_Properties/materials.csv\")\n",
    "df.head()"
   ]
  },
  {
   "cell_type": "code",
   "execution_count": 4,
   "metadata": {},
   "outputs": [],
   "source": [
    "# Step 1: Data Preprocessing (Encapsulate in a function)\n",
    "\n",
    "uncleaned_formulae = df['ENTRY ']\n",
    "cleaned_formulae = []\n",
    "for value in uncleaned_formulae:\n",
    "    #split string into list\n",
    "    split_list = value.split(\" [\")\n",
    "    clean_formula = split_list[0]\n",
    "    cleaned_formulae.append(clean_formula)\n",
    "#Lets now create a new dataframe to hold the clean data \n",
    "df_cleaned = pd.DataFrame()\n",
    "\n",
    "#adding columns to the DF\n",
    "df_cleaned['formula'] = cleaned_formulae\n",
    "\n",
    "#adding a column with the target property we want to predict\n",
    "#Here I am targeting to predict bulk modulus of the material\n",
    "df_cleaned['bulk_modulus'] = df['AEL VRH bulk modulus ']"
   ]
  },
  {
   "cell_type": "code",
   "execution_count": 5,
   "metadata": {},
   "outputs": [],
   "source": [
    "check_for_duplicates = df_cleaned['formula'].value_counts()\n",
    "df_cleaned.drop_duplicates('formula', keep='first', inplace=True)"
   ]
  },
  {
   "cell_type": "code",
   "execution_count": 6,
   "metadata": {},
   "outputs": [
    {
     "data": {
      "image/png": "[encoded data removed]",
      "text/plain": [
       "<Figure size 600x400 with 1 Axes>"
      ]
     },
     "metadata": {},
     "output_type": "display_data"
    }
   ],
   "source": [
    "plt.figure(figsize=(6,4))\n",
    "df_cleaned['bulk_modulus'].hist(bins=20, grid=False, edgecolor = 'black')\n",
    "plt.show()"
   ]
  },
  {
   "cell_type": "code",
   "execution_count": 7,
   "metadata": {},
   "outputs": [
    {
     "name": "stdout",
     "output_type": "stream",
     "text": [
      "The element: Pu from formula C8Pu4W4 is not currently supported in our database\n"
     ]
    }
   ],
   "source": [
    "#Rename columns to match the required input\n",
    "df_cleaned.columns = ['formula', 'target']\n",
    "\n",
    "#Lets convert our chemical formula into features\n",
    "X, y, formulae = composition.generate_features(df_cleaned)"
   ]
  },
  {
   "cell_type": "code",
   "execution_count": 8,
   "metadata": {},
   "outputs": [],
   "source": [
    "X_train, X_test, y_train, y_test = train_test_split(X, y, test_size=0.33, random_state=42)"
   ]
  },
  {
   "cell_type": "code",
   "execution_count": 9,
   "metadata": {},
   "outputs": [],
   "source": [
    "scalar = StandardScaler()\n",
    "normalizer = Normalizer()\n",
    "# Do the scaling step\n",
    "X_train_scaled = scalar.fit_transform(X_train)  # get statistics & transform\n",
    "X_test_scaled = scalar.transform(X_test)  # transform using 'training' stats.\n",
    "# Do the normalizing step\n",
    "X_train_scaled = normalizer.fit_transform(X_train_scaled)  # normalize vectors\n",
    "X_test_scaled = normalizer.transform(X_test_scaled)  # normalize vectors"
   ]
  },
  {
   "cell_type": "code",
   "execution_count": 13,
   "metadata": {},
   "outputs": [],
   "source": [
    "models = {\n",
    "    'Linear Regression': (Lasso(), {'alpha': np.logspace(-3, 1, 5)}),\n",
    "    'K-Nearest Neighbour': (KNeighborsRegressor(), {'n_neighbors': [3, 5, 7]}),\n",
    "    'Decision Tree': (DecisionTreeRegressor(), {'max_depth': [5, 10, 15]}),\n",
    "    'Support Vector Machine': (SVR(), {'C': np.logspace(-2, 3, 6), 'epsilon': [0.01, 0.1, 1], 'gamma': np.logspace(-2, 2, 5)}),\n",
    "    'Random Forest Regressor': (RandomForestRegressor(), {'n_estimators': [50, 100, 150], 'max_depth': [10, 15, 20]}),\n",
    "    'Gradient Boosting Regressor': (GradientBoostingRegressor(), {'n_estimators': [50, 100, 150], 'max_features': [0.5, 0.75, 1.0]})\n",
    "}\n",
    "\n",
    "best_model = None\n",
    "best_score = -np.inf\n",
    "cv = KFold(n_splits=5, shuffle=True, random_state=1)"
   ]
  },
  {
   "cell_type": "code",
   "execution_count": 14,
   "metadata": {},
   "outputs": [
    {
     "name": "stderr",
     "output_type": "stream",
     "text": [
      "/Users/umakantmanore/Desktop/amu/Dev_Enviroment2023/test_env/lib/python3.9/site-packages/sklearn/linear_model/_coordinate_descent.py:697: ConvergenceWarning: Objective did not converge. You might want to increase the number of iterations, check the scale of the features or consider increasing regularisation. Duality gap: 9.525e+04, tolerance: 4.434e+02\n",
      "  model = cd_fast.enet_coordinate_descent(\n",
      "/Users/umakantmanore/Desktop/amu/Dev_Enviroment2023/test_env/lib/python3.9/site-packages/sklearn/linear_model/_coordinate_descent.py:697: ConvergenceWarning: Objective did not converge. You might want to increase the number of iterations, check the scale of the features or consider increasing regularisation. Duality gap: 1.056e+05, tolerance: 4.445e+02\n",
      "  model = cd_fast.enet_coordinate_descent(\n",
      "/Users/umakantmanore/Desktop/amu/Dev_Enviroment2023/test_env/lib/python3.9/site-packages/sklearn/linear_model/_coordinate_descent.py:697: ConvergenceWarning: Objective did not converge. You might want to increase the number of iterations, check the scale of the features or consider increasing regularisation. Duality gap: 6.365e+04, tolerance: 4.341e+02\n",
      "  model = cd_fast.enet_coordinate_descent(\n",
      "/Users/umakantmanore/Desktop/amu/Dev_Enviroment2023/test_env/lib/python3.9/site-packages/sklearn/linear_model/_coordinate_descent.py:697: ConvergenceWarning: Objective did not converge. You might want to increase the number of iterations, check the scale of the features or consider increasing regularisation. Duality gap: 1.029e+05, tolerance: 4.357e+02\n",
      "  model = cd_fast.enet_coordinate_descent(\n",
      "/Users/umakantmanore/Desktop/amu/Dev_Enviroment2023/test_env/lib/python3.9/site-packages/sklearn/linear_model/_coordinate_descent.py:697: ConvergenceWarning: Objective did not converge. You might want to increase the number of iterations, check the scale of the features or consider increasing regularisation. Duality gap: 1.071e+05, tolerance: 4.471e+02\n",
      "  model = cd_fast.enet_coordinate_descent(\n",
      "/Users/umakantmanore/Desktop/amu/Dev_Enviroment2023/test_env/lib/python3.9/site-packages/sklearn/linear_model/_coordinate_descent.py:697: ConvergenceWarning: Objective did not converge. You might want to increase the number of iterations, check the scale of the features or consider increasing regularisation. Duality gap: 2.587e+03, tolerance: 4.434e+02\n",
      "  model = cd_fast.enet_coordinate_descent(\n",
      "/Users/umakantmanore/Desktop/amu/Dev_Enviroment2023/test_env/lib/python3.9/site-packages/sklearn/linear_model/_coordinate_descent.py:697: ConvergenceWarning: Objective did not converge. You might want to increase the number of iterations, check the scale of the features or consider increasing regularisation. Duality gap: 2.495e+03, tolerance: 4.445e+02\n",
      "  model = cd_fast.enet_coordinate_descent(\n",
      "/Users/umakantmanore/Desktop/amu/Dev_Enviroment2023/test_env/lib/python3.9/site-packages/sklearn/linear_model/_coordinate_descent.py:697: ConvergenceWarning: Objective did not converge. You might want to increase the number of iterations, check the scale of the features or consider increasing regularisation. Duality gap: 1.669e+03, tolerance: 4.341e+02\n",
      "  model = cd_fast.enet_coordinate_descent(\n",
      "/Users/umakantmanore/Desktop/amu/Dev_Enviroment2023/test_env/lib/python3.9/site-packages/sklearn/linear_model/_coordinate_descent.py:697: ConvergenceWarning: Objective did not converge. You might want to increase the number of iterations, check the scale of the features or consider increasing regularisation. Duality gap: 1.403e+03, tolerance: 4.357e+02\n",
      "  model = cd_fast.enet_coordinate_descent(\n",
      "/Users/umakantmanore/Desktop/amu/Dev_Enviroment2023/test_env/lib/python3.9/site-packages/sklearn/linear_model/_coordinate_descent.py:697: ConvergenceWarning: Objective did not converge. You might want to increase the number of iterations, check the scale of the features or consider increasing regularisation. Duality gap: 1.946e+03, tolerance: 4.471e+02\n",
      "  model = cd_fast.enet_coordinate_descent(\n",
      "/Users/umakantmanore/Desktop/amu/Dev_Enviroment2023/test_env/lib/python3.9/site-packages/sklearn/linear_model/_coordinate_descent.py:697: ConvergenceWarning: Objective did not converge. You might want to increase the number of iterations, check the scale of the features or consider increasing regularisation. Duality gap: 1.228e+05, tolerance: 5.513e+02\n",
      "  model = cd_fast.enet_coordinate_descent(\n"
     ]
    },
    {
     "name": "stdout",
     "output_type": "stream",
     "text": [
      "Linear Regression - Best R2 score: 0.881 with parameters: {'alpha': 0.001}\n",
      "K-Nearest Neighbour - Best R2 score: 0.826 with parameters: {'n_neighbors': 5}\n",
      "Decision Tree - Best R2 score: 0.794 with parameters: {'max_depth': 10}\n",
      "Support Vector Machine - Best R2 score: 0.920 with parameters: {'C': 100.0, 'epsilon': 1, 'gamma': 1.0}\n",
      "Random Forest Regressor - Best R2 score: 0.899 with parameters: {'max_depth': 20, 'n_estimators': 50}\n",
      "Gradient Boosting Regressor - Best R2 score: 0.903 with parameters: {'max_features': 0.5, 'n_estimators': 150}\n",
      "Best model: SVR(C=100.0, epsilon=1, gamma=1.0) with R2 score: 0.920\n"
     ]
    }
   ],
   "source": [
    "for model_name, (model, param_grid) in models.items():\n",
    "    grid = GridSearchCV(estimator=model, param_grid=param_grid, cv=cv, scoring='r2')\n",
    "    grid.fit(X_train_scaled, y_train)\n",
    "    y_test_pred = grid.predict(X_test_scaled)\n",
    "    score = r2_score(y_test, y_test_pred)\n",
    "    \n",
    "    print(f\"{model_name} - Best R2 score: {score:.3f} with parameters: {grid.best_params_}\")\n",
    "    \n",
    "    if score > best_score:\n",
    "        best_score = score\n",
    "        best_model = grid.best_estimator_\n",
    "\n",
    "print(f\"Best model: {best_model} with R2 score: {best_score:.3f}\")"
   ]
  },
  {
   "cell_type": "code",
   "execution_count": null,
   "metadata": {},
   "outputs": [],
   "source": []
  }
 ],
 "metadata": {
  "kernelspec": {
   "display_name": "test_env",
   "language": "python",
   "name": "python3"
  },
  "language_info": {
   "codemirror_mode": {
    "name": "ipython",
    "version": 3
   },
   "file_extension": ".py",
   "mimetype": "text/x-python",
   "name": "python",
   "nbconvert_exporter": "python",
   "pygments_lexer": "ipython3",
   "version": "3.9.6"
  }
 },
 "nbformat": 4,
 "nbformat_minor": 2
}
