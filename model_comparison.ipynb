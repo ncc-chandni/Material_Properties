{
 "cells": [
  {
   "cell_type": "code",
   "execution_count": null,
   "metadata": {},
   "outputs": [],
   "source": [
    "models = {'Linear Regression':Lasso(alpha=0.01),\n",
    "          'K-Nearest Neighbour':KNeighborsRegressor(n_neighbors=3),\n",
    "          'Decision Tree':DecisionTreeRegressor(max_depth=8),\n",
    "          'Support Vector Machine': SVR(kernel=\"rbf\",C=100, gamma=1),\n",
    "          'Random Forest Regressor': RandomForestRegressor(n_estimators=100, random_state=3, max_samples=0.5, max_features=0.75, max_depth=15),\n",
    "          'Gradient Boosting Regressor': GradientBoostingRegressor(n_estimators=100,max_features=0.5),\n",
    "          }\n",
    "\n",
    "for key, model in models.items():\n",
    "  pipe = Pipeline(\n",
    "      [('step1', step1),\n",
    "       ('step2',model)]\n",
    "        )\n",
    "  pipe.fit(X_train, y_train)\n",
    "  y_pred = pipe.predict(X_test)\n",
    "  print(f\"{key}\")\n",
    "  print(f'R2 Score: {r2_score(y_test, y_pred)}')\n",
    "  print(f'Mean Absolute Error: {mean_absolute_error(y_test, y_pred)}')\n",
    "  print('\\n')"
   ]
  },
  {
   "cell_type": "markdown",
   "metadata": {},
   "source": [
    "### IMPORT LIBRARIES"
   ]
  },
  {
   "cell_type": "code",
   "execution_count": null,
   "metadata": {},
   "outputs": [],
   "source": [
    "import pandas as pd \n",
    "import numpy as np \n",
    "import matplotlib.pyplot as plt"
   ]
  },
  {
   "cell_type": "code",
   "execution_count": null,
   "metadata": {},
   "outputs": [],
   "source": [
    "from sklearn.model_selection import train_test_split, KFold, GridSearchCV\n",
    "from sklearn.preprocessing import StandardScaler, Normalizer\n",
    "from sklearn.svm import SVR\n",
    "from sklearn.metrics import r2_score, mean_squared_error "
   ]
  },
  {
   "cell_type": "code",
   "execution_count": null,
   "metadata": {},
   "outputs": [],
   "source": [
    "import composition\n",
    "import utils"
   ]
  },
  {
   "cell_type": "code",
   "execution_count": null,
   "metadata": {},
   "outputs": [],
   "source": [
    "from sklearn.pipeline import Pipeline\n",
    "from sklearn.metrics import mean_absolute_error\n",
    "\n",
    "from sklearn.linear_model import LinearRegression,Ridge,Lasso\n",
    "from sklearn.neighbors import KNeighborsRegressor\n",
    "from sklearn.tree import DecisionTreeRegressor\n",
    "from sklearn.ensemble import RandomForestRegressor,GradientBoostingRegressor\n",
    "from sklearn.svm import SVR\n",
    "from sklearn.ensemble import StackingRegressor"
   ]
  },
  {
   "cell_type": "markdown",
   "metadata": {},
   "source": [
    "### DATA"
   ]
  },
  {
   "cell_type": "code",
   "execution_count": null,
   "metadata": {},
   "outputs": [],
   "source": [
    "df = pd.read_csv(\"/Users/umakantmanore/Desktop/amu/Dev_Enviroment2023/test_env/Material_Properties/materials.csv\")\n",
    "df.head()"
   ]
  },
  {
   "cell_type": "markdown",
   "metadata": {},
   "source": [
    "### PREPROCESS"
   ]
  },
  {
   "cell_type": "code",
   "execution_count": null,
   "metadata": {},
   "outputs": [],
   "source": [
    "# Step 1: Data Preprocessing (Encapsulate in a function)\n",
    "def preprocess_data(df):\n",
    "    uncleaned_formulae = df['ENTRY ']\n",
    "    cleaned_formulae = []\n",
    "    for value in uncleaned_formulae:\n",
    "        #split string into list\n",
    "        split_list = value.split(\" [\")\n",
    "        clean_formula = split_list[0]\n",
    "        cleaned_formulae.append(clean_formula)\n",
    "    #Lets now create a new dataframe to hold the clean data \n",
    "    df_cleaned = pd.DataFrame()\n",
    "\n",
    "    #adding columns to the DF\n",
    "    df_cleaned['formula'] = cleaned_formulae\n",
    "\n",
    "    #adding a column with the target property we want to predict\n",
    "    #Here I am targeting to predict bulk modulus of the material\n",
    "    df_cleaned['bulk_modulus'] = df['AEL VRH bulk modulus ']\n",
    "    return df_cleaned"
   ]
  },
  {
   "cell_type": "code",
   "execution_count": null,
   "metadata": {},
   "outputs": [],
   "source": []
  },
  {
   "cell_type": "code",
   "execution_count": null,
   "metadata": {},
   "outputs": [],
   "source": []
  },
  {
   "cell_type": "code",
   "execution_count": null,
   "metadata": {},
   "outputs": [],
   "source": []
  },
  {
   "cell_type": "code",
   "execution_count": null,
   "metadata": {},
   "outputs": [],
   "source": []
  },
  {
   "cell_type": "code",
   "execution_count": null,
   "metadata": {},
   "outputs": [],
   "source": []
  }
 ],
 "metadata": {
  "language_info": {
   "name": "python"
  }
 },
 "nbformat": 4,
 "nbformat_minor": 2
}
